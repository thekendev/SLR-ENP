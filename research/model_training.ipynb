{
 "cells": [
  {
   "cell_type": "code",
   "execution_count": 1,
   "metadata": {},
   "outputs": [],
   "source": [
    "# Basic Import\n",
    "import os\n",
    "import pandas as pd\n",
    "import seaborn as sns\n",
    "import matplotlib.pyplot as plt\n",
    "import numpy as np\n",
    "\n",
    "\n",
    "# Modelling\n",
    "from sklearn.metrics import mean_squared_error,r2_score, mean_absolute_error\n",
    "from sklearn.linear_model import LinearRegression, Ridge, Lasso\n",
    "from sklearn.model_selection import train_test_split"
   ]
  },
  {
   "cell_type": "markdown",
   "metadata": {},
   "source": [
    "# Import the Excel file data as Pandas Datframe"
   ]
  },
  {
   "cell_type": "code",
   "execution_count": 2,
   "metadata": {},
   "outputs": [],
   "source": [
    "# Load data from the specified sheet \"3.4.2 (incl CCL)\" and preview the first few rows\n",
    "df = pd.read_excel(\"/Users/justicesmacboookair/Documents/Data-science/SLR-ENP/research/data/temple_data_transformed.xlsx\")"
   ]
  },
  {
   "cell_type": "markdown",
   "metadata": {},
   "source": [
    "#### Show Top 5 Records"
   ]
  },
  {
   "cell_type": "code",
   "execution_count": 3,
   "metadata": {},
   "outputs": [
    {
     "data": {
      "text/html": [
       "<div>\n",
       "<style scoped>\n",
       "    .dataframe tbody tr th:only-of-type {\n",
       "        vertical-align: middle;\n",
       "    }\n",
       "\n",
       "    .dataframe tbody tr th {\n",
       "        vertical-align: top;\n",
       "    }\n",
       "\n",
       "    .dataframe thead th {\n",
       "        text-align: right;\n",
       "    }\n",
       "</style>\n",
       "<table border=\"1\" class=\"dataframe\">\n",
       "  <thead>\n",
       "    <tr style=\"text-align: right;\">\n",
       "      <th></th>\n",
       "      <th>Year</th>\n",
       "      <th>Quarter</th>\n",
       "      <th>Electricity: Very Small (Pence per kWh)</th>\n",
       "      <th>Electricity: Small (Pence per kWh)</th>\n",
       "      <th>Electricity: Small/Medium (Pence per kWh)</th>\n",
       "      <th>Electricity: Medium (Pence per kWh)</th>\n",
       "      <th>Electricity: Large (Pence per kWh)</th>\n",
       "      <th>Electricity: Very Large (Pence per kWh)</th>\n",
       "      <th>Electricity: Extra Large (Pence per kWh)</th>\n",
       "      <th>Electricity: Average (Pence per kWh)</th>\n",
       "      <th>Avg_Electricity_Price</th>\n",
       "    </tr>\n",
       "  </thead>\n",
       "  <tbody>\n",
       "    <tr>\n",
       "      <th>0</th>\n",
       "      <td>2007</td>\n",
       "      <td>1</td>\n",
       "      <td>9.531999</td>\n",
       "      <td>8.302909</td>\n",
       "      <td>8.048118</td>\n",
       "      <td>7.257151</td>\n",
       "      <td>6.771136</td>\n",
       "      <td>6.820582</td>\n",
       "      <td>6.438687</td>\n",
       "      <td>7.637417</td>\n",
       "      <td>7.595798</td>\n",
       "    </tr>\n",
       "    <tr>\n",
       "      <th>1</th>\n",
       "      <td>2007</td>\n",
       "      <td>2</td>\n",
       "      <td>9.845438</td>\n",
       "      <td>7.647641</td>\n",
       "      <td>6.913110</td>\n",
       "      <td>6.522139</td>\n",
       "      <td>5.928171</td>\n",
       "      <td>5.774705</td>\n",
       "      <td>4.859447</td>\n",
       "      <td>6.748888</td>\n",
       "      <td>6.784379</td>\n",
       "    </tr>\n",
       "    <tr>\n",
       "      <th>2</th>\n",
       "      <td>2007</td>\n",
       "      <td>3</td>\n",
       "      <td>9.923440</td>\n",
       "      <td>8.335395</td>\n",
       "      <td>7.509659</td>\n",
       "      <td>6.525570</td>\n",
       "      <td>6.087500</td>\n",
       "      <td>5.784247</td>\n",
       "      <td>4.306788</td>\n",
       "      <td>6.880579</td>\n",
       "      <td>6.924657</td>\n",
       "    </tr>\n",
       "    <tr>\n",
       "      <th>3</th>\n",
       "      <td>2007</td>\n",
       "      <td>4</td>\n",
       "      <td>9.933320</td>\n",
       "      <td>8.437592</td>\n",
       "      <td>7.453594</td>\n",
       "      <td>6.574385</td>\n",
       "      <td>6.184248</td>\n",
       "      <td>5.956329</td>\n",
       "      <td>5.476230</td>\n",
       "      <td>7.117072</td>\n",
       "      <td>7.145100</td>\n",
       "    </tr>\n",
       "    <tr>\n",
       "      <th>4</th>\n",
       "      <td>2008</td>\n",
       "      <td>1</td>\n",
       "      <td>10.020676</td>\n",
       "      <td>8.604631</td>\n",
       "      <td>7.549362</td>\n",
       "      <td>6.615001</td>\n",
       "      <td>6.437835</td>\n",
       "      <td>6.608856</td>\n",
       "      <td>5.766387</td>\n",
       "      <td>7.363354</td>\n",
       "      <td>7.371821</td>\n",
       "    </tr>\n",
       "  </tbody>\n",
       "</table>\n",
       "</div>"
      ],
      "text/plain": [
       "   Year  Quarter  Electricity: Very Small (Pence per kWh)  \\\n",
       "0  2007        1                                 9.531999   \n",
       "1  2007        2                                 9.845438   \n",
       "2  2007        3                                 9.923440   \n",
       "3  2007        4                                 9.933320   \n",
       "4  2008        1                                10.020676   \n",
       "\n",
       "   Electricity: Small (Pence per kWh)  \\\n",
       "0                            8.302909   \n",
       "1                            7.647641   \n",
       "2                            8.335395   \n",
       "3                            8.437592   \n",
       "4                            8.604631   \n",
       "\n",
       "   Electricity: Small/Medium (Pence per kWh)  \\\n",
       "0                                   8.048118   \n",
       "1                                   6.913110   \n",
       "2                                   7.509659   \n",
       "3                                   7.453594   \n",
       "4                                   7.549362   \n",
       "\n",
       "   Electricity: Medium (Pence per kWh)  Electricity: Large (Pence per kWh)  \\\n",
       "0                             7.257151                            6.771136   \n",
       "1                             6.522139                            5.928171   \n",
       "2                             6.525570                            6.087500   \n",
       "3                             6.574385                            6.184248   \n",
       "4                             6.615001                            6.437835   \n",
       "\n",
       "   Electricity: Very Large (Pence per kWh)  \\\n",
       "0                                 6.820582   \n",
       "1                                 5.774705   \n",
       "2                                 5.784247   \n",
       "3                                 5.956329   \n",
       "4                                 6.608856   \n",
       "\n",
       "   Electricity: Extra Large (Pence per kWh)  \\\n",
       "0                                  6.438687   \n",
       "1                                  4.859447   \n",
       "2                                  4.306788   \n",
       "3                                  5.476230   \n",
       "4                                  5.766387   \n",
       "\n",
       "   Electricity: Average (Pence per kWh)  Avg_Electricity_Price  \n",
       "0                              7.637417               7.595798  \n",
       "1                              6.748888               6.784379  \n",
       "2                              6.880579               6.924657  \n",
       "3                              7.117072               7.145100  \n",
       "4                              7.363354               7.371821  "
      ]
     },
     "execution_count": 3,
     "metadata": {},
     "output_type": "execute_result"
    }
   ],
   "source": [
    "df.head()"
   ]
  },
  {
   "cell_type": "markdown",
   "metadata": {},
   "source": [
    "### Preparing X and Y Variables"
   ]
  },
  {
   "cell_type": "code",
   "execution_count": 4,
   "metadata": {},
   "outputs": [],
   "source": [
    "X = df.drop(\"Avg_Electricity_Price\", axis =1)"
   ]
  },
  {
   "cell_type": "code",
   "execution_count": 5,
   "metadata": {},
   "outputs": [
    {
     "data": {
      "text/html": [
       "<div>\n",
       "<style scoped>\n",
       "    .dataframe tbody tr th:only-of-type {\n",
       "        vertical-align: middle;\n",
       "    }\n",
       "\n",
       "    .dataframe tbody tr th {\n",
       "        vertical-align: top;\n",
       "    }\n",
       "\n",
       "    .dataframe thead th {\n",
       "        text-align: right;\n",
       "    }\n",
       "</style>\n",
       "<table border=\"1\" class=\"dataframe\">\n",
       "  <thead>\n",
       "    <tr style=\"text-align: right;\">\n",
       "      <th></th>\n",
       "      <th>Year</th>\n",
       "      <th>Quarter</th>\n",
       "      <th>Electricity: Very Small (Pence per kWh)</th>\n",
       "      <th>Electricity: Small (Pence per kWh)</th>\n",
       "      <th>Electricity: Small/Medium (Pence per kWh)</th>\n",
       "      <th>Electricity: Medium (Pence per kWh)</th>\n",
       "      <th>Electricity: Large (Pence per kWh)</th>\n",
       "      <th>Electricity: Very Large (Pence per kWh)</th>\n",
       "      <th>Electricity: Extra Large (Pence per kWh)</th>\n",
       "      <th>Electricity: Average (Pence per kWh)</th>\n",
       "    </tr>\n",
       "  </thead>\n",
       "  <tbody>\n",
       "    <tr>\n",
       "      <th>0</th>\n",
       "      <td>2007</td>\n",
       "      <td>1</td>\n",
       "      <td>9.531999</td>\n",
       "      <td>8.302909</td>\n",
       "      <td>8.048118</td>\n",
       "      <td>7.257151</td>\n",
       "      <td>6.771136</td>\n",
       "      <td>6.820582</td>\n",
       "      <td>6.438687</td>\n",
       "      <td>7.637417</td>\n",
       "    </tr>\n",
       "    <tr>\n",
       "      <th>1</th>\n",
       "      <td>2007</td>\n",
       "      <td>2</td>\n",
       "      <td>9.845438</td>\n",
       "      <td>7.647641</td>\n",
       "      <td>6.913110</td>\n",
       "      <td>6.522139</td>\n",
       "      <td>5.928171</td>\n",
       "      <td>5.774705</td>\n",
       "      <td>4.859447</td>\n",
       "      <td>6.748888</td>\n",
       "    </tr>\n",
       "    <tr>\n",
       "      <th>2</th>\n",
       "      <td>2007</td>\n",
       "      <td>3</td>\n",
       "      <td>9.923440</td>\n",
       "      <td>8.335395</td>\n",
       "      <td>7.509659</td>\n",
       "      <td>6.525570</td>\n",
       "      <td>6.087500</td>\n",
       "      <td>5.784247</td>\n",
       "      <td>4.306788</td>\n",
       "      <td>6.880579</td>\n",
       "    </tr>\n",
       "    <tr>\n",
       "      <th>3</th>\n",
       "      <td>2007</td>\n",
       "      <td>4</td>\n",
       "      <td>9.933320</td>\n",
       "      <td>8.437592</td>\n",
       "      <td>7.453594</td>\n",
       "      <td>6.574385</td>\n",
       "      <td>6.184248</td>\n",
       "      <td>5.956329</td>\n",
       "      <td>5.476230</td>\n",
       "      <td>7.117072</td>\n",
       "    </tr>\n",
       "    <tr>\n",
       "      <th>4</th>\n",
       "      <td>2008</td>\n",
       "      <td>1</td>\n",
       "      <td>10.020676</td>\n",
       "      <td>8.604631</td>\n",
       "      <td>7.549362</td>\n",
       "      <td>6.615001</td>\n",
       "      <td>6.437835</td>\n",
       "      <td>6.608856</td>\n",
       "      <td>5.766387</td>\n",
       "      <td>7.363354</td>\n",
       "    </tr>\n",
       "  </tbody>\n",
       "</table>\n",
       "</div>"
      ],
      "text/plain": [
       "   Year  Quarter  Electricity: Very Small (Pence per kWh)  \\\n",
       "0  2007        1                                 9.531999   \n",
       "1  2007        2                                 9.845438   \n",
       "2  2007        3                                 9.923440   \n",
       "3  2007        4                                 9.933320   \n",
       "4  2008        1                                10.020676   \n",
       "\n",
       "   Electricity: Small (Pence per kWh)  \\\n",
       "0                            8.302909   \n",
       "1                            7.647641   \n",
       "2                            8.335395   \n",
       "3                            8.437592   \n",
       "4                            8.604631   \n",
       "\n",
       "   Electricity: Small/Medium (Pence per kWh)  \\\n",
       "0                                   8.048118   \n",
       "1                                   6.913110   \n",
       "2                                   7.509659   \n",
       "3                                   7.453594   \n",
       "4                                   7.549362   \n",
       "\n",
       "   Electricity: Medium (Pence per kWh)  Electricity: Large (Pence per kWh)  \\\n",
       "0                             7.257151                            6.771136   \n",
       "1                             6.522139                            5.928171   \n",
       "2                             6.525570                            6.087500   \n",
       "3                             6.574385                            6.184248   \n",
       "4                             6.615001                            6.437835   \n",
       "\n",
       "   Electricity: Very Large (Pence per kWh)  \\\n",
       "0                                 6.820582   \n",
       "1                                 5.774705   \n",
       "2                                 5.784247   \n",
       "3                                 5.956329   \n",
       "4                                 6.608856   \n",
       "\n",
       "   Electricity: Extra Large (Pence per kWh)  \\\n",
       "0                                  6.438687   \n",
       "1                                  4.859447   \n",
       "2                                  4.306788   \n",
       "3                                  5.476230   \n",
       "4                                  5.766387   \n",
       "\n",
       "   Electricity: Average (Pence per kWh)  \n",
       "0                              7.637417  \n",
       "1                              6.748888  \n",
       "2                              6.880579  \n",
       "3                              7.117072  \n",
       "4                              7.363354  "
      ]
     },
     "execution_count": 5,
     "metadata": {},
     "output_type": "execute_result"
    }
   ],
   "source": [
    "X.head()"
   ]
  },
  {
   "cell_type": "code",
   "execution_count": 6,
   "metadata": {},
   "outputs": [],
   "source": [
    "y = df['Avg_Electricity_Price']"
   ]
  },
  {
   "cell_type": "code",
   "execution_count": 7,
   "metadata": {},
   "outputs": [
    {
     "data": {
      "text/plain": [
       "0    7.595798\n",
       "1    6.784379\n",
       "2    6.924657\n",
       "3    7.145100\n",
       "4    7.371821\n",
       "Name: Avg_Electricity_Price, dtype: float64"
      ]
     },
     "execution_count": 7,
     "metadata": {},
     "output_type": "execute_result"
    }
   ],
   "source": [
    "y.head()"
   ]
  },
  {
   "cell_type": "code",
   "execution_count": 8,
   "metadata": {},
   "outputs": [],
   "source": [
    "num_features = X.select_dtypes(exclude=\"object\").columns\n",
    "cat_features = X.select_dtypes(include=\"object\").columns\n",
    "\n",
    "\n",
    "from sklearn.preprocessing import OneHotEncoder, StandardScaler\n",
    "from sklearn.compose import ColumnTransformer\n",
    "\n",
    "\n",
    "numeric_transformer = StandardScaler()\n",
    "oh_transformer = OneHotEncoder()\n",
    "\n",
    "preprocessor = ColumnTransformer(\n",
    "    [\n",
    "        (\"OneHotEncoder\", oh_transformer, cat_features),\n",
    "        (\"StandardScaler\", numeric_transformer, num_features),\n",
    "    ]\n",
    ")"
   ]
  },
  {
   "cell_type": "code",
   "execution_count": 9,
   "metadata": {},
   "outputs": [],
   "source": [
    "X = preprocessor.fit_transform(X)"
   ]
  },
  {
   "cell_type": "code",
   "execution_count": 10,
   "metadata": {},
   "outputs": [
    {
     "data": {
      "text/plain": [
       "(70, 10)"
      ]
     },
     "execution_count": 10,
     "metadata": {},
     "output_type": "execute_result"
    }
   ],
   "source": [
    "X.shape"
   ]
  },
  {
   "cell_type": "code",
   "execution_count": 11,
   "metadata": {},
   "outputs": [
    {
     "data": {
      "text/plain": [
       "((56, 10), (14, 10))"
      ]
     },
     "execution_count": 11,
     "metadata": {},
     "output_type": "execute_result"
    }
   ],
   "source": [
    "X_train, X_test, y_train, y_test = train_test_split(X,y,test_size=0.2,random_state=42)\n",
    "X_train.shape, X_test.shape"
   ]
  },
  {
   "cell_type": "markdown",
   "metadata": {},
   "source": [
    "### Creating an evaluate function to give all metrics after model training"
   ]
  },
  {
   "cell_type": "code",
   "execution_count": 12,
   "metadata": {},
   "outputs": [
    {
     "name": "stdout",
     "output_type": "stream",
     "text": [
      "LinearRegression\n",
      "Model performance for training set:\n",
      ". Root mean squared error: 0.0000\n",
      ". Mean absolute error: 0.0000\n",
      ". R² score: 1.0000\n",
      "----------------------\n",
      "Model performance for test set:\n",
      ". Root mean squared error: 0.0000\n",
      ". Mean absolute error: 0.0000\n",
      ". R² score: 1.0000\n",
      "===================================\n",
      "\n",
      "\n",
      "Lasso\n",
      "Model performance for training set:\n",
      ". Root mean squared error: 1.0015\n",
      ". Mean absolute error: 0.7280\n",
      ". R² score: 0.9710\n",
      "----------------------\n",
      "Model performance for test set:\n",
      ". Root mean squared error: 1.0336\n",
      ". Mean absolute error: 0.7676\n",
      ". R² score: 0.9631\n",
      "===================================\n",
      "\n",
      "\n",
      "Ridge\n",
      "Model performance for training set:\n",
      ". Root mean squared error: 0.0281\n",
      ". Mean absolute error: 0.0211\n",
      ". R² score: 1.0000\n",
      "----------------------\n",
      "Model performance for test set:\n",
      ". Root mean squared error: 0.0237\n",
      ". Mean absolute error: 0.0196\n",
      ". R² score: 1.0000\n",
      "===================================\n",
      "\n",
      "\n"
     ]
    }
   ],
   "source": [
    "# Function to evaluate the model\n",
    "def evaluate_model(y_true, y_pred):\n",
    "    mae = mean_absolute_error(y_true, y_pred)\n",
    "    mse = mean_squared_error(y_true, y_pred)  # MSE (mean squared error)\n",
    "    rmse = np.sqrt(mse)  # Calculate RMSE manually\n",
    "    r2 = r2_score(y_true, y_pred)\n",
    "    return mae, rmse, r2\n",
    "\n",
    "# Models dictionary\n",
    "models = {\n",
    "    \"LinearRegression\": LinearRegression(),\n",
    "    \"Lasso\": Lasso(),\n",
    "    \"Ridge\": Ridge()\n",
    "}\n",
    "\n",
    "# Lists to store model names and R² values\n",
    "model_list = []\n",
    "r2_list = []\n",
    "\n",
    "# Loop through the models to train and evaluate\n",
    "for i in range(len(models)):\n",
    "    model = list(models.values())[i]\n",
    "    model_name = list(models.keys())[i]\n",
    "    \n",
    "    # Fit the model\n",
    "    model.fit(X_train, y_train)\n",
    "    \n",
    "    # Predictions for both training and test sets\n",
    "    y_train_pred = model.predict(X_train)\n",
    "    y_test_pred = model.predict(X_test)\n",
    "    \n",
    "    # Evaluate the model on training and test sets\n",
    "    model_train_mae, model_train_rmse, model_train_r2 = evaluate_model(y_train, y_train_pred)\n",
    "    model_test_mae, model_test_rmse, model_test_r2 = evaluate_model(y_test, y_test_pred)\n",
    "    \n",
    "    # Print the model performance\n",
    "    print(model_name)\n",
    "    model_list.append(model_name)\n",
    "    \n",
    "    print(\"Model performance for training set:\")\n",
    "    print(f\". Root mean squared error: {model_train_rmse:.4f}\")\n",
    "    print(f\". Mean absolute error: {model_train_mae:.4f}\")\n",
    "    print(f\". R² score: {model_train_r2:.4f}\")\n",
    "    \n",
    "    print(\"----------------------\")\n",
    "    \n",
    "    print(\"Model performance for test set:\")\n",
    "    print(f\". Root mean squared error: {model_test_rmse:.4f}\")\n",
    "    print(f\". Mean absolute error: {model_test_mae:.4f}\")\n",
    "    print(f\". R² score: {model_test_r2:.4f}\")\n",
    "    \n",
    "    print(\"=\"*35)\n",
    "    print(\"\\n\")"
   ]
  },
  {
   "cell_type": "markdown",
   "metadata": {},
   "source": [
    "## Results {Work on}"
   ]
  },
  {
   "cell_type": "code",
   "execution_count": 13,
   "metadata": {},
   "outputs": [
    {
     "name": "stdout",
     "output_type": "stream",
     "text": [
      "Model List: ['LinearRegression', 'Lasso', 'Ridge']\n",
      "R2 List: []\n",
      "Empty DataFrame\n",
      "Columns: [Model name, R2_score]\n",
      "Index: []\n"
     ]
    }
   ],
   "source": [
    "# Check if the lists have values\n",
    "print(\"Model List:\", model_list)\n",
    "print(\"R2 List:\", r2_list)\n",
    "# Create a DataFrame to display results\n",
    "results_df = pd.DataFrame(list(zip(model_list, r2_list)), columns=['Model name', 'R2_score'])\n",
    "\n",
    "# Check the DataFrame structure\n",
    "print(results_df)\n",
    "\n",
    "# Sort and display\n"
   ]
  },
  {
   "cell_type": "code",
   "execution_count": 14,
   "metadata": {},
   "outputs": [
    {
     "data": {
      "text/html": [
       "<div>\n",
       "<style scoped>\n",
       "    .dataframe tbody tr th:only-of-type {\n",
       "        vertical-align: middle;\n",
       "    }\n",
       "\n",
       "    .dataframe tbody tr th {\n",
       "        vertical-align: top;\n",
       "    }\n",
       "\n",
       "    .dataframe thead th {\n",
       "        text-align: right;\n",
       "    }\n",
       "</style>\n",
       "<table border=\"1\" class=\"dataframe\">\n",
       "  <thead>\n",
       "    <tr style=\"text-align: right;\">\n",
       "      <th></th>\n",
       "      <th>Model name</th>\n",
       "      <th>R2_score</th>\n",
       "    </tr>\n",
       "  </thead>\n",
       "  <tbody>\n",
       "  </tbody>\n",
       "</table>\n",
       "</div>"
      ],
      "text/plain": [
       "Empty DataFrame\n",
       "Columns: [Model name, R2_score]\n",
       "Index: []"
      ]
     },
     "execution_count": 14,
     "metadata": {},
     "output_type": "execute_result"
    }
   ],
   "source": [
    "# Create a DataFrame to display results\n",
    "pd.DataFrame(list(zip(model_list, r2_list)), columns=['Model name', 'R2_score']).sort_values(by=[\"R2_score\"],ascending=False)"
   ]
  },
  {
   "cell_type": "markdown",
   "metadata": {},
   "source": [
    "## Linear Regression"
   ]
  },
  {
   "cell_type": "code",
   "execution_count": 15,
   "metadata": {},
   "outputs": [
    {
     "name": "stdout",
     "output_type": "stream",
     "text": [
      "The accuracy of the model is 100.00\n"
     ]
    }
   ],
   "source": [
    "lin_model = LinearRegression(fit_intercept=True)\n",
    "lin_model = lin_model.fit(X_train, y_train)\n",
    "y_pred = lin_model.predict(X_test)\n",
    "score = r2_score(y_test, y_pred)*100\n",
    "print(\"The accuracy of the model is %.2f\" %score)"
   ]
  },
  {
   "cell_type": "markdown",
   "metadata": {},
   "source": [
    "## Plot y_pred and y_test"
   ]
  },
  {
   "cell_type": "code",
   "execution_count": 16,
   "metadata": {},
   "outputs": [
    {
     "data": {
      "image/png": "[encoded data removed]",
      "text/plain": [
       "<Figure size 640x480 with 1 Axes>"
      ]
     },
     "metadata": {},
     "output_type": "display_data"
    }
   ],
   "source": [
    "plt.scatter(y_test, y_pred);\n",
    "plt.xlabel(\"Actual\");\n",
    "plt.ylabel(\"predicted\");"
   ]
  },
  {
   "cell_type": "code",
   "execution_count": 17,
   "metadata": {},
   "outputs": [
    {
     "data": {
      "image/png": "[encoded data removed]",
      "text/plain": [
       "<Figure size 640x480 with 1 Axes>"
      ]
     },
     "metadata": {},
     "output_type": "display_data"
    }
   ],
   "source": [
    "sns.regplot(x=y_test, y=y_pred,ci=None, color=\"red\");"
   ]
  },
  {
   "cell_type": "markdown",
   "metadata": {},
   "source": [
    "## Difference between actual and predicted values"
   ]
  },
  {
   "cell_type": "code",
   "execution_count": 18,
   "metadata": {},
   "outputs": [
    {
     "data": {
      "text/html": [
       "<div>\n",
       "<style scoped>\n",
       "    .dataframe tbody tr th:only-of-type {\n",
       "        vertical-align: middle;\n",
       "    }\n",
       "\n",
       "    .dataframe tbody tr th {\n",
       "        vertical-align: top;\n",
       "    }\n",
       "\n",
       "    .dataframe thead th {\n",
       "        text-align: right;\n",
       "    }\n",
       "</style>\n",
       "<table border=\"1\" class=\"dataframe\">\n",
       "  <thead>\n",
       "    <tr style=\"text-align: right;\">\n",
       "      <th></th>\n",
       "      <th>Actual Value</th>\n",
       "      <th>Predicted Value</th>\n",
       "      <th>Difference</th>\n",
       "    </tr>\n",
       "  </thead>\n",
       "  <tbody>\n",
       "    <tr>\n",
       "      <th>22</th>\n",
       "      <td>9.406904</td>\n",
       "      <td>9.406904</td>\n",
       "      <td>1.776357e-15</td>\n",
       "    </tr>\n",
       "    <tr>\n",
       "      <th>0</th>\n",
       "      <td>7.595798</td>\n",
       "      <td>7.595798</td>\n",
       "      <td>2.664535e-15</td>\n",
       "    </tr>\n",
       "    <tr>\n",
       "      <th>49</th>\n",
       "      <td>12.614888</td>\n",
       "      <td>12.614888</td>\n",
       "      <td>-3.552714e-15</td>\n",
       "    </tr>\n",
       "    <tr>\n",
       "      <th>4</th>\n",
       "      <td>7.371821</td>\n",
       "      <td>7.371821</td>\n",
       "      <td>1.776357e-15</td>\n",
       "    </tr>\n",
       "    <tr>\n",
       "      <th>54</th>\n",
       "      <td>13.273997</td>\n",
       "      <td>13.273997</td>\n",
       "      <td>1.776357e-15</td>\n",
       "    </tr>\n",
       "    <tr>\n",
       "      <th>18</th>\n",
       "      <td>8.597812</td>\n",
       "      <td>8.597812</td>\n",
       "      <td>0.000000e+00</td>\n",
       "    </tr>\n",
       "    <tr>\n",
       "      <th>10</th>\n",
       "      <td>9.017435</td>\n",
       "      <td>9.017435</td>\n",
       "      <td>1.776357e-15</td>\n",
       "    </tr>\n",
       "    <tr>\n",
       "      <th>33</th>\n",
       "      <td>10.692553</td>\n",
       "      <td>10.692553</td>\n",
       "      <td>3.552714e-15</td>\n",
       "    </tr>\n",
       "    <tr>\n",
       "      <th>45</th>\n",
       "      <td>11.781792</td>\n",
       "      <td>11.781792</td>\n",
       "      <td>3.552714e-15</td>\n",
       "    </tr>\n",
       "    <tr>\n",
       "      <th>12</th>\n",
       "      <td>8.597877</td>\n",
       "      <td>8.597877</td>\n",
       "      <td>1.776357e-15</td>\n",
       "    </tr>\n",
       "    <tr>\n",
       "      <th>31</th>\n",
       "      <td>10.708619</td>\n",
       "      <td>10.708619</td>\n",
       "      <td>-1.776357e-15</td>\n",
       "    </tr>\n",
       "    <tr>\n",
       "      <th>9</th>\n",
       "      <td>9.264184</td>\n",
       "      <td>9.264184</td>\n",
       "      <td>1.776357e-15</td>\n",
       "    </tr>\n",
       "    <tr>\n",
       "      <th>67</th>\n",
       "      <td>29.444687</td>\n",
       "      <td>29.444687</td>\n",
       "      <td>-3.552714e-15</td>\n",
       "    </tr>\n",
       "    <tr>\n",
       "      <th>5</th>\n",
       "      <td>7.655657</td>\n",
       "      <td>7.655657</td>\n",
       "      <td>-8.881784e-16</td>\n",
       "    </tr>\n",
       "  </tbody>\n",
       "</table>\n",
       "</div>"
      ],
      "text/plain": [
       "    Actual Value  Predicted Value    Difference\n",
       "22      9.406904         9.406904  1.776357e-15\n",
       "0       7.595798         7.595798  2.664535e-15\n",
       "49     12.614888        12.614888 -3.552714e-15\n",
       "4       7.371821         7.371821  1.776357e-15\n",
       "54     13.273997        13.273997  1.776357e-15\n",
       "18      8.597812         8.597812  0.000000e+00\n",
       "10      9.017435         9.017435  1.776357e-15\n",
       "33     10.692553        10.692553  3.552714e-15\n",
       "45     11.781792        11.781792  3.552714e-15\n",
       "12      8.597877         8.597877  1.776357e-15\n",
       "31     10.708619        10.708619 -1.776357e-15\n",
       "9       9.264184         9.264184  1.776357e-15\n",
       "67     29.444687        29.444687 -3.552714e-15\n",
       "5       7.655657         7.655657 -8.881784e-16"
      ]
     },
     "execution_count": 18,
     "metadata": {},
     "output_type": "execute_result"
    }
   ],
   "source": [
    "pred_df = pd.DataFrame({'Actual Value': y_test, 'Predicted Value': y_pred, 'Difference': y_test - y_pred})\n",
    "pred_df"
   ]
  }
 ],
 "metadata": {
  "kernelspec": {
   "display_name": "Python 3",
   "language": "python",
   "name": "python3"
  },
  "language_info": {
   "codemirror_mode": {
    "name": "ipython",
    "version": 3
   },
   "file_extension": ".py",
   "mimetype": "text/x-python",
   "name": "python",
   "nbconvert_exporter": "python",
   "pygments_lexer": "ipython3",
   "version": "3.12.0"
  }
 },
 "nbformat": 4,
 "nbformat_minor": 2
}
