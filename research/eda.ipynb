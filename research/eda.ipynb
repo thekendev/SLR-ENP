{
 "cells": [
  {
   "cell_type": "markdown",
   "metadata": {},
   "source": [
    "# TEMPLE (Temporal Energy Model for Pricing and Linear Evaluation) ML PROJECT\n",
    "\n",
    "### End to End lifecycle of ML project ♻️\n",
    "° Understanding the problem statement\n",
    "\n",
    "° Data collection\n",
    "\n",
    "° Data checks to perform\n",
    "\n",
    "° Exploratory data analysis\n",
    "\n",
    "° Data Pre-processing\n",
    "\n",
    "° Model Training\n",
    "\n",
    "° Choosing the right/best model\n",
    "\n",
    "### a) Problem Statement\n",
    "Energy pricing is a dynamic and complex process influenced by temporal factors such as seasons, years, and varying consumption scales across different consumer categories. Stakeholders often face challenges in understanding how these factors collectively impact the average cost of energy (electricity and gas). Without clear insights, it becomes difficult to forecast pricing trends, optimize energy distribution, and support strategic decision-making.\n",
    "\n",
    "### b)Aim\n",
    "\n",
    "The aim of TEMPLE is to develop a simple yet effective linear regression model to predict average electricity pricing based on temporal and categorical energy consumption data. By leveraging historical pricing data and exploring the temporal trends, the project seeks to:\n",
    "\n",
    "\t•\tIdentify key drivers influencing energy prices over time.\n",
    "\n",
    "\t•\tProvide a transparent and interpretable tool for pricing evaluation to inform strategic energy decisions.\n",
    "\n",
    "### c) Solution\n",
    "\n",
    "TEMPLE employs supervised learning techniques, specifically linear regression, to analyze temporal energy pricing data. The project creates a predictive model that estimates the Electricity: Average (Pence per kWh) based on factors such as year, quarter, and pricing categories across different consumer scales. This approach not only forecasts average energy prices but also offers actionable insights into how temporal and category-specific variables impact costs.\n",
    "\n",
    "By simplifying the complexities of energy pricing trends, TEMPLE aims to support stakeholders in making data-driven decisions to improve energy market efficiency.\n",
    "\n",
    "\n",
    "### 1) Data Collection\n",
    " Dataset Source: https://www.gov.uk/government/statistical-data-sets/gas-and-electricity-prices-in-the-non-domestic-sector\n",
    " \n",
    " Data consists of 16 columns and 82 rows."
   ]
  },
  {
   "cell_type": "markdown",
   "metadata": {},
   "source": [
    "### 2) Importing locally downloaded data and Reqired packages\n",
    "\n",
    "***Required libraries***\n",
    "\n",
    "° Pandas\n",
    "\n",
    "° numpy\n",
    "\n",
    "° seaborn\n",
    "\n",
    "° matplotlib"
   ]
  },
  {
   "cell_type": "code",
   "execution_count": null,
   "metadata": {},
   "outputs": [],
   "source": [
    "import os\n",
    "import pandas as pd\n",
    "import seaborn as sns\n",
    "import matplotlib.pyplot as plt"
   ]
  },
  {
   "cell_type": "code",
   "execution_count": null,
   "metadata": {},
   "outputs": [],
   "source": [
    "#Importing data\n",
    "file_path = \"/Users/justicesmacboookair/Documents/Data-science/SLR-ENP/research/data/temple_raw.xlsx\"\n",
    "excel_data = pd.ExcelFile(file_path)\n",
    "excel_data.sheet_names"
   ]
  },
  {
   "cell_type": "code",
   "execution_count": null,
   "metadata": {},
   "outputs": [],
   "source": [
    "# Load data from the specified sheet \"3.4.2 (incl CCL)\" and preview the first few rows\n",
    "raw_data = pd.read_excel(excel_data, sheet_name='3.4.2 (incl CCL)', skiprows=6, nrows=83)\n",
    "raw_data.head()"
   ]
  },
  {
   "cell_type": "markdown",
   "metadata": {},
   "source": [
    "### 3) DATA UNDERSTANDING"
   ]
  },
  {
   "cell_type": "code",
   "execution_count": null,
   "metadata": {},
   "outputs": [],
   "source": [
    "raw_data.shape"
   ]
  },
  {
   "cell_type": "code",
   "execution_count": null,
   "metadata": {},
   "outputs": [],
   "source": [
    "raw_data.columns"
   ]
  },
  {
   "cell_type": "code",
   "execution_count": null,
   "metadata": {},
   "outputs": [],
   "source": [
    "raw_data.info()"
   ]
  },
  {
   "cell_type": "code",
   "execution_count": null,
   "metadata": {},
   "outputs": [],
   "source": [
    "raw_data.describe()"
   ]
  },
  {
   "cell_type": "markdown",
   "metadata": {},
   "source": [
    "***Insights💡***\n",
    "\n",
    "I have observed:\n",
    "\n",
    "**Missing Values**\n",
    "\n",
    "° “Electricity: Extra Large (Pence per kWh)” has 12 missing values.\n",
    "\n",
    "**Electricity Prices Analysis**\n",
    "\n",
    "° The “Very Small” electricity category has the highest mean (2013.76 pence per kWh).\n",
    "\n",
    "° Electricity prices gradually decrease as the size category increases, with “Extra Large” having the lowest mean (10.07 pence per kWh).\n",
    "\n",
    "° There is considerable variation in electricity prices, with standard deviations ranging from 5.2 to 6.9 across different categories.\n",
    "\n",
    "° The highest electricity price (“Very Small”) is significantly higher than the lowest (“Extra Large”), indicating a steep drop in prices as the consumer size category increases.\n",
    "\n",
    "**Min and Max Electricity Prices**\n",
    "\n",
    "° “Very Small” electricity price reaches a maximum of 34.01 pence per kWh.\n",
    "\n",
    "° “Extra Large” electricity price reaches a maximum of 24.02 pence per kWh.\n",
    "\n",
    "**General Trend**\n",
    "\n",
    "° Electricity prices decrease as consumer size increases, potentially due to economies of scale or pricing models favoring larger consumers.\n",
    "\n",
    "**Outliers**\n",
    "\n",
    "° There appear to be outliers, especially in the “Very Small” electricity category, where prices can reach notably high values (e.g., max electricity price of 34.01 pence per kWh).\n",
    "\n",
    "**Target Variable**\n",
    "\n",
    "° Electricity: Average (Pence per kWh) is the primary target variable for prediction.\n",
    "\n",
    "**Data Preprocessing Decision**\n",
    "\n",
    "° Gas-related columns will be dropped, as this project focuses solely on electricity pricing.\n"
   ]
  },
  {
   "cell_type": "markdown",
   "metadata": {},
   "source": [
    "### 4) Data checks to perform\n",
    "\n",
    "° Check missing values\n",
    "\n",
    "° Check duplicated values\n",
    "\n",
    "° Check data types\n",
    "\n",
    "° Check statistics of dataset\n",
    "\n",
    "° Check various categories present in the different categorical column"
   ]
  },
  {
   "cell_type": "markdown",
   "metadata": {},
   "source": [
    "**4.1) Checking duplicated values**"
   ]
  },
  {
   "cell_type": "code",
   "execution_count": null,
   "metadata": {},
   "outputs": [],
   "source": [
    "raw_data.duplicated().sum()"
   ]
  },
  {
   "cell_type": "markdown",
   "metadata": {},
   "source": [
    "***Insights💡***\n",
    "\n",
    "° There are no duplicate values in this data set"
   ]
  },
  {
   "cell_type": "markdown",
   "metadata": {},
   "source": [
    "**4.2) Checking missing values**"
   ]
  },
  {
   "cell_type": "code",
   "execution_count": null,
   "metadata": {},
   "outputs": [],
   "source": [
    "raw_data.isnull().sum()"
   ]
  },
  {
   "cell_type": "markdown",
   "metadata": {},
   "source": [
    "***Insights💡***\n",
    "\n",
    "° There are 12 missing valus in the Electricity: Extra Large (Pence per kWh) coloumn"
   ]
  },
  {
   "cell_type": "markdown",
   "metadata": {},
   "source": [
    "**4.3) Checking data types**"
   ]
  },
  {
   "cell_type": "code",
   "execution_count": null,
   "metadata": {},
   "outputs": [],
   "source": [
    "raw_data.info()"
   ]
  },
  {
   "cell_type": "markdown",
   "metadata": {},
   "source": [
    "**4.4) Checking unique values in each column**"
   ]
  },
  {
   "cell_type": "code",
   "execution_count": null,
   "metadata": {},
   "outputs": [],
   "source": [
    "raw_data.nunique()"
   ]
  },
  {
   "cell_type": "code",
   "execution_count": null,
   "metadata": {},
   "outputs": [],
   "source": [
    "print(raw_data['Year'].unique())"
   ]
  },
  {
   "cell_type": "code",
   "execution_count": null,
   "metadata": {},
   "outputs": [],
   "source": [
    "print(raw_data['Quarter'].unique())"
   ]
  },
  {
   "cell_type": "code",
   "execution_count": null,
   "metadata": {},
   "outputs": [],
   "source": [
    "# Check for NaN values in the \"Electricity: Extra Large (Pence per kWh)\" column\n",
    "nan_values = raw_data[raw_data[\"Electricity: Extra Large (Pence per kWh)\"].isna()]\n",
    "\n",
    "# Print the rows where the value is NaN\n",
    "nan_values"
   ]
  },
  {
   "cell_type": "markdown",
   "metadata": {},
   "source": [
    "***Insights💡***\n",
    "\n",
    "° There are 4 unique values in 'Quarter' column, 21 in 'year' column, and 70 in 'Electricity: Extra Large (Pence per kWh)' column\n",
    "\n",
    "Possible Causes of 12 missing values 'Electricity: Extra Large (Pence per kWh)' column:\n",
    "\n",
    "a) Identical Prices Across Different Time Periods or Categories\n",
    "\n",
    "\t•\tSome electricity prices might be the same across different years or quarters.\n",
    "\n",
    "b) Data Aggregation or Rounding\n",
    "\n",
    "\t•\tIf prices were rounded to fewer decimal places, multiple records could have the same values.\n",
    "\n",
    "c) Missing Data and Missing Years:\n",
    "\t•\tGiven that the describe() summary shows a minimum year of 2004 but no unique years between 2004–2006, it’s likely that data from 2004 to 2006 may be underrepresented or missing in the dataset.\n",
    "\n",
    "\n",
    "**Decision:** Drop the repeated values"
   ]
  },
  {
   "cell_type": "markdown",
   "metadata": {},
   "source": [
    "**4.5) Checking dataset statistics**"
   ]
  },
  {
   "cell_type": "code",
   "execution_count": null,
   "metadata": {},
   "outputs": [],
   "source": [
    "raw_data.describe()"
   ]
  },
  {
   "cell_type": "markdown",
   "metadata": {},
   "source": [
    "### 5) Data cleaning\n"
   ]
  },
  {
   "cell_type": "code",
   "execution_count": null,
   "metadata": {},
   "outputs": [],
   "source": [
    "raw_data = raw_data.dropna()"
   ]
  },
  {
   "cell_type": "code",
   "execution_count": null,
   "metadata": {},
   "outputs": [],
   "source": [
    "raw_data.isnull().sum()"
   ]
  },
  {
   "cell_type": "code",
   "execution_count": null,
   "metadata": {},
   "outputs": [],
   "source": [
    "# Dropping all columns irrelevant to Project - Temple\n",
    "raw_data = raw_data.drop(columns=[\n",
    "    'Gas: Very Small (Pence per kWh)', \n",
    "    'Gas: Small (Pence per kWh)', \n",
    "    'Gas: Medium (Pence per kWh)', \n",
    "    'Gas: Large (Pence per kWh)', \n",
    "    'Gas: Very Large (Pence per kWh)', \n",
    "    'Gas: Average (Pence per kWh)'\n",
    "])"
   ]
  },
  {
   "cell_type": "code",
   "execution_count": null,
   "metadata": {},
   "outputs": [],
   "source": [
    "raw_data.info()\n",
    "raw_data.head()"
   ]
  },
  {
   "cell_type": "markdown",
   "metadata": {},
   "source": [
    "### 6) Exploratory Data Analysis"
   ]
  },
  {
   "cell_type": "code",
   "execution_count": null,
   "metadata": {},
   "outputs": [],
   "source": [
    "# Visualization: Box plot to show variation of electricity prices across quarters\n",
    "plt.figure(figsize=(8, 5))\n",
    "sns.boxplot(x=\"Quarter\", y=\"Electricity: Average (Pence per kWh)\", data=raw_data, hue=\"Quarter\", palette=\"viridis\", dodge=False)\n",
    "plt.title(\"Electricity Prices by Quarter\", fontsize=14)\n",
    "plt.xlabel(\"Quarter\", fontsize=12)\n",
    "plt.ylabel(\"Electricity: Average (Pence per kWh)\", fontsize=12)\n",
    "plt.legend([],[], frameon=False)  # Remove legend for cleaner plot\n",
    "plt.show()"
   ]
  },
  {
   "cell_type": "markdown",
   "metadata": {},
   "source": [
    "***6.2) Bivariate Analysis***"
   ]
  },
  {
   "cell_type": "markdown",
   "metadata": {},
   "source": [
    "***6.3) Comparative Analysis***"
   ]
  },
  {
   "cell_type": "code",
   "execution_count": null,
   "metadata": {},
   "outputs": [],
   "source": [
    "# Descriptive statistics grouped by quarter\n",
    "quarter_stats = raw_data.groupby(\"Quarter\")[\"Electricity: Average (Pence per kWh)\"].describe()\n",
    "print(quarter_stats)"
   ]
  },
  {
   "cell_type": "code",
   "execution_count": null,
   "metadata": {},
   "outputs": [],
   "source": [
    "# Group by Year and calculate mean electricity price\n",
    "yearly_stats = raw_data.groupby(\"Year\")[\"Electricity: Average (Pence per kWh)\"].describe()\n",
    "\n",
    "# Print summary statistics\n",
    "print(yearly_stats)"
   ]
  },
  {
   "cell_type": "code",
   "execution_count": null,
   "metadata": {},
   "outputs": [],
   "source": [
    "'''\n",
    "REVIEW THIS WELL SINCE YOUVE CHAGED DATES TO CATEGORICAL, SHOWUL YOU JUST MAKE THIS STRAIGHTON DATE COLUMN BYADDING QUARTED AND YEAR AS 1 COLUMN OR LEAVE AS IS\n",
    "'''\n",
    "# Convert the Year column to a categorical type\n",
    "raw_data['Year'] = raw_data['Year'].astype(str)\n",
    "\n",
    "# Visualization: Line plot for yearly trends\n",
    "plt.figure(figsize=(8, 5))\n",
    "sns.lineplot(x=\"Year\", y=\"Electricity: Average (Pence per kWh)\", data=raw_data, marker=\"o\", label=\"Yearly Average\")\n",
    "plt.title(\"Yearly Trends in Electricity Prices\", fontsize=14)\n",
    "plt.xlabel(\"Year\", fontsize=12)\n",
    "plt.ylabel(\"Electricity: Average (Pence per kWh)\", fontsize=12)\n",
    "plt.legend()\n",
    "plt.grid(True)\n",
    "\n",
    "# Rotate the x-axis labels for better visibility\n",
    "plt.xticks(rotation=45)\n",
    "plt.show()"
   ]
  },
  {
   "cell_type": "code",
   "execution_count": null,
   "metadata": {},
   "outputs": [],
   "source": [
    "raw_data.info()\n",
    "raw_data.head()"
   ]
  },
  {
   "cell_type": "markdown",
   "metadata": {},
   "source": [
    "# FEATURE ENGINEERING"
   ]
  },
  {
   "cell_type": "code",
   "execution_count": null,
   "metadata": {},
   "outputs": [],
   "source": [
    "'''\n",
    "Quarter as a Numeric Feature: Convert the “Quarter” column to numeric values (1st → 1, 2nd → 2, etc.). \n",
    "This will help capture the impact of different quarters on electricity prices. \n",
    "You can also consider encoding “Quarter” as a cyclic feature if you expect it to have seasonal effects (e.g., Winter prices might differ from Summer).\n",
    "'''\n",
    "raw_data['Quarter'] = raw_data['Quarter'].map({'1st': 1, '2nd': 2, '3rd': 3, '4th': 4})"
   ]
  },
  {
   "cell_type": "code",
   "execution_count": null,
   "metadata": {},
   "outputs": [],
   "source": [
    "'''Aggregating Average Price Across Categories: This can capture general pricing trends across all categories. \n",
    "It’s a good indicator of the overall electricity pricing environment.'''\n",
    "\n",
    "raw_data['Avg_Electricity_Price'] = raw_data[['Electricity: Very Small (Pence per kWh)', \n",
    "                                              'Electricity: Small (Pence per kWh)', \n",
    "                                              'Electricity: Small/Medium (Pence per kWh)', \n",
    "                                              'Electricity: Medium (Pence per kWh)', \n",
    "                                              'Electricity: Large (Pence per kWh)', \n",
    "                                              'Electricity: Very Large (Pence per kWh)', \n",
    "                                              'Electricity: Extra Large (Pence per kWh)']].mean(axis=1)"
   ]
  },
  {
   "cell_type": "code",
   "execution_count": null,
   "metadata": {},
   "outputs": [],
   "source": [
    "raw_data.head()"
   ]
  },
  {
   "cell_type": "code",
   "execution_count": null,
   "metadata": {},
   "outputs": [],
   "source": [
    "# updating numerical & categorical data\n",
    "numeric_data = raw_data.select_dtypes(include=[\"float64\", \"int64\"])\n",
    "numeric_data"
   ]
  },
  {
   "cell_type": "code",
   "execution_count": null,
   "metadata": {},
   "outputs": [],
   "source": [
    "# Select numeric columns (float64 and int64)\n",
    "categorical_data = raw_data.select_dtypes(include=[\"object\"])\n",
    "categorical_data"
   ]
  },
  {
   "cell_type": "code",
   "execution_count": null,
   "metadata": {},
   "outputs": [],
   "source": [
    "# Calculate the correlation matrix\n",
    "corr_matrix = numeric_data.corr()\n",
    "\n",
    "# Create the heatmap\n",
    "plt.figure(figsize=(10, 8))\n",
    "sns.heatmap(corr_matrix, annot=True, cmap='coolwarm', fmt='.2f', linewidths=0.5)\n",
    "plt.title('Correlation Heatmap')\n",
    "plt.show()"
   ]
  },
  {
   "cell_type": "markdown",
   "metadata": {},
   "source": [
    "**Feature Information**\n",
    "\n",
    "\t1. Year: The year during which the pricing data was recorded (e.g., 2004, 2005).\n",
    "\t2.\tQuarter: The quarter of the year (e.g., 1st, 2nd, 3rd, 4th), representing seasonal divisions.\n",
    "\t3.\tElectricity: Very Small (Pence per kWh): The average electricity cost for very small-scale consumers, measured in pence per kilowatt-hour.\n",
    "\t4.\tElectricity: Small (Pence per kWh): The average electricity cost for small-scale consumers, measured in pence per kilowatt-hour.\n",
    "\t5.\tElectricity: Small/Medium (Pence per kWh): The average electricity cost for consumers in the small to medium consumption category, measured in pence per kilowatt-hour.\n",
    "\t6.\tElectricity: Medium (Pence per kWh): The average electricity cost for medium-scale consumers, measured in pence per kilowatt-hour.\n",
    "\t7.\tElectricity: Large (Pence per kWh): The average electricity cost for large-scale consumers, measured in pence per kilowatt-hour.\n",
    "\t8.\tElectricity: Very Large (Pence per kWh): The average electricity cost for very large-scale consumers, measured in pence per kilowatt-hour.\n",
    "\t9.\tElectricity: Extra Large (Pence per kWh): The average electricity cost for extra large-scale consumers, measured in pence per kilowatt-hour (contains some missing data).\n",
    "\t10.\tElectricity: Average (Pence per kWh): The average electricity cost across all consumer categories, measured in pence per kilowatt-hour."
   ]
  },
  {
   "cell_type": "code",
   "execution_count": null,
   "metadata": {},
   "outputs": [],
   "source": [
    "# proportion of count data on categorical columns\n",
    "for col in categorical_data:\n",
    "    print(raw_data[col].value_counts(normalize=True)*100)\n",
    "    print('--------------------')"
   ]
  },
  {
   "cell_type": "markdown",
   "metadata": {},
   "source": [
    "### 6) Exploratory Data Analysis\n",
    "***6.1) Univariate Analysis***"
   ]
  },
  {
   "cell_type": "code",
   "execution_count": null,
   "metadata": {},
   "outputs": [],
   "source": [
    "plt.figure(figsize=(15, 15))\n",
    "plt.suptitle('Univariate Analysis of Numerical Features', fontsize=20, fontweight='bold', alpha=0.8, y=1.02)\n",
    "\n",
    "for i, col in enumerate(numeric_data.columns, 1):\n",
    "    plt.subplot(5, 3, i)  # Adjust grid size as needed (5 rows x 3 columns here)\n",
    "    sns.kdeplot(x=numeric_data[col], fill=True, color='r')  # Replaced shade=True with fill=True\n",
    "    plt.xlabel(col, fontsize=10)\n",
    "    plt.tight_layout()\n",
    "\n",
    "plt.show()"
   ]
  },
  {
   "cell_type": "markdown",
   "metadata": {},
   "source": [
    "**Insights💡**\n",
    "\n",
    "All numerical data points are all right skewed except Quarter"
   ]
  },
  {
   "cell_type": "code",
   "execution_count": null,
   "metadata": {},
   "outputs": [],
   "source": [
    "# Set up the figure\n",
    "plt.figure(figsize=(12, 8))\n",
    "plt.suptitle('Univariate Analysis of Year Column', fontsize=20, fontweight='bold', alpha=0.9, y=1.02)\n",
    "\n",
    "# Use a color palette to give a refined look\n",
    "sns.set_palette('muted')\n",
    "\n",
    "# Create a countplot with better style and formatting\n",
    "plt.subplot(1, 1, 1)  # A single plot for the Year column\n",
    "sns.countplot(data=raw_data, x='Year', hue='Year', palette='viridis', edgecolor='black', legend=False)\n",
    "\n",
    "# Enhance aesthetics\n",
    "plt.title('Distribution of Year', fontsize=18, fontweight='bold')\n",
    "plt.xlabel('Year', fontsize=14)\n",
    "plt.ylabel('Count', fontsize=14)\n",
    "plt.xticks(rotation=45, ha='right', fontsize=12)  # Rotate x-ticks for better readability\n",
    "plt.yticks(fontsize=12)\n",
    "plt.grid(True, linestyle='--', alpha=0.7)  # Add grid for better visual alignment\n",
    "\n",
    "# Optional: Adding value counts above bars for clarity\n",
    "for p in plt.gca().patches:\n",
    "    plt.gca().annotate(f'{p.get_height():,.0f}', \n",
    "                       (p.get_x() + p.get_width() / 2., p.get_height()), \n",
    "                       ha = 'center', va = 'center', \n",
    "                       fontsize=12, color='white', \n",
    "                       xytext=(0, 10), textcoords='offset points')\n",
    "\n",
    "# Adjust layout to avoid clipping\n",
    "plt.tight_layout()\n",
    "\n",
    "# Show the plot\n",
    "plt.show()"
   ]
  },
  {
   "cell_type": "markdown",
   "metadata": {},
   "source": [
    "**STAKEHOLDER QUESTIONS BEING ANSWERED**"
   ]
  },
  {
   "cell_type": "markdown",
   "metadata": {},
   "source": [
    "1.) What is the trend in electricity prices over the years?"
   ]
  },
  {
   "cell_type": "code",
   "execution_count": null,
   "metadata": {},
   "outputs": [],
   "source": [
    "# Set up the figure\n",
    "plt.figure(figsize=(12, 8))\n",
    "plt.title('Trend in Electricity Prices Over the Years', fontsize=18, fontweight='bold')\n",
    "\n",
    "# Plot the trend for Average Electricity Price over the years\n",
    "sns.lineplot(data=raw_data, x='Year', y='Electricity: Average (Pence per kWh)', marker='o', color='b')\n",
    "\n",
    "# Labels and formatting\n",
    "plt.xlabel('Year', fontsize=14)\n",
    "plt.ylabel('Average Electricity Price (Pence per kWh)', fontsize=14)\n",
    "plt.xticks(rotation=45, ha='right', fontsize=12)\n",
    "plt.yticks(fontsize=12)\n",
    "plt.grid(True, linestyle='--', alpha=0.7)\n",
    "\n",
    "# Show the plot\n",
    "plt.tight_layout()\n",
    "plt.show()"
   ]
  },
  {
   "cell_type": "markdown",
   "metadata": {},
   "source": [
    "2). Which year had the highest electricity prices on average?"
   ]
  },
  {
   "cell_type": "code",
   "execution_count": null,
   "metadata": {},
   "outputs": [],
   "source": [
    "# Find the year with the highest average electricity price\n",
    "highest_price_year = raw_data.loc[raw_data['Electricity: Average (Pence per kWh)'].idxmax(), 'Year']\n",
    "highest_price = raw_data['Electricity: Average (Pence per kWh)'].max()\n",
    "\n",
    "print(f\"The year with the highest average electricity price is {highest_price_year} with a price of {highest_price:.2f} pence per kWh.\")"
   ]
  },
  {
   "cell_type": "markdown",
   "metadata": {},
   "source": [
    "3). What is the distribution of electricity prices in the ‘Extra Large’ category?"
   ]
  },
  {
   "cell_type": "code",
   "execution_count": null,
   "metadata": {},
   "outputs": [],
   "source": [
    "# Plot the distribution of 'Electricity: Extra Large' prices\n",
    "plt.figure(figsize=(10, 6))\n",
    "plt.title('Distribution of Electricity Prices for Extra Large Category', fontsize=18, fontweight='bold')\n",
    "\n",
    "# Plot the distribution\n",
    "sns.histplot(raw_data['Electricity: Extra Large (Pence per kWh)'], kde=True, color='orange')\n",
    "\n",
    "# Labels and formatting\n",
    "plt.xlabel('Electricity Price (Pence per kWh)', fontsize=14)\n",
    "plt.ylabel('Frequency', fontsize=14)\n",
    "plt.xticks(fontsize=12)\n",
    "plt.yticks(fontsize=12)\n",
    "plt.grid(True, linestyle='--', alpha=0.7)\n",
    "\n",
    "# Show the plot\n",
    "plt.tight_layout()\n",
    "plt.show()"
   ]
  },
  {
   "cell_type": "code",
   "execution_count": null,
   "metadata": {},
   "outputs": [],
   "source": [
    "# Create the data folder if it doesn't exist\n",
    "os.makedirs(\"data\", exist_ok=True)\n",
    "\n",
    "# Specify the path to save the transformed data as Excel\n",
    "save_path = \"data/temple_data_transformed.xlsx\"\n",
    "\n",
    "# Save the transformed raw_data DataFrame directly (no need to read the original file again)\n",
    "with pd.ExcelWriter(save_path, engine='openpyxl') as writer:\n",
    "    raw_data.to_excel(writer, index=False, sheet_name='3.4.2 (incl CCL)')\n",
    "\n",
    "print(f\"Transformed data from the raw_data DataFrame has been saved to {save_path}\")"
   ]
  }
 ],
 "metadata": {
  "kernelspec": {
   "display_name": "Python 3",
   "language": "python",
   "name": "python3"
  },
  "language_info": {
   "codemirror_mode": {
    "name": "ipython",
    "version": 3
   },
   "file_extension": ".py",
   "mimetype": "text/x-python",
   "name": "python",
   "nbconvert_exporter": "python",
   "pygments_lexer": "ipython3",
   "version": "3.12.0"
  }
 },
 "nbformat": 4,
 "nbformat_minor": 2
}
